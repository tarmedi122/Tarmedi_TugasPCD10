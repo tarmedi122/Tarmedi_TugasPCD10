{
 "cells": [
  {
   "cell_type": "code",
   "execution_count": 13,
   "metadata": {},
   "outputs": [],
   "source": [
    "import numpy as np\n",
    "import imageio\n",
    "import matplotlib.pyplot as plt\n",
    "import cv2"
   ]
  },
  {
   "cell_type": "code",
   "execution_count": 14,
   "metadata": {},
   "outputs": [
    {
     "ename": "error",
     "evalue": "OpenCV(4.7.0) D:\\a\\opencv-python\\opencv-python\\opencv\\modules\\imgproc\\src\\color.cpp:182: error: (-215:Assertion failed) !_src.empty() in function 'cv::cvtColor'\n",
     "output_type": "error",
     "traceback": [
      "\u001b[1;31m---------------------------------------------------------------------------\u001b[0m",
      "\u001b[1;31merror\u001b[0m                                     Traceback (most recent call last)",
      "Cell \u001b[1;32mIn[14], line 2\u001b[0m\n\u001b[0;32m      1\u001b[0m img_bgr \u001b[39m=\u001b[39m cv2\u001b[39m.\u001b[39mimread(\u001b[39m\"\u001b[39m\u001b[39mbuah.jpeg\u001b[39m\u001b[39m\"\u001b[39m)\n\u001b[1;32m----> 2\u001b[0m img \u001b[39m=\u001b[39m cv2\u001b[39m.\u001b[39;49mcvtColor(img_bgr, cv2\u001b[39m.\u001b[39;49mCOLOR_BGR2RGB)\n\u001b[0;32m      3\u001b[0m height, width, channel \u001b[39m=\u001b[39m img_bgr\u001b[39m.\u001b[39mshape\n\u001b[0;32m      5\u001b[0m hgr \u001b[39m=\u001b[39m np\u001b[39m.\u001b[39mzeros((\u001b[39m256\u001b[39m))\n",
      "\u001b[1;31merror\u001b[0m: OpenCV(4.7.0) D:\\a\\opencv-python\\opencv-python\\opencv\\modules\\imgproc\\src\\color.cpp:182: error: (-215:Assertion failed) !_src.empty() in function 'cv::cvtColor'\n"
     ]
    }
   ],
   "source": [
    "img_bgr = cv2.imread(\"buah.jpeg\")\n",
    "img = cv2.cvtColor(img_bgr, cv2.COLOR_BGR2RGB)\n",
    "height, width, channel = img_bgr.shape\n",
    "\n",
    "hgr = np.zeros((256))\n",
    "hgg = np.zeros((256))\n",
    "hgb = np.zeros((256))\n",
    "hgrgb = np.zeros((768), dtype=np.int32)\n",
    "\n",
    "def makeItZero():\n",
    "    for x in range(0, 256):\n",
    "        hgr[x] = 0\n",
    "        hgg[x] = 0\n",
    "        hgb[x] = 0\n",
    "    for x in range(0, 768):\n",
    "        hgrgb[x] = 0"
   ]
  },
  {
   "cell_type": "code",
   "execution_count": null,
   "metadata": {},
   "outputs": [],
   "source": [
    "makeItZero()\n",
    "\n",
    "# th = int(256/64)\n",
    "temp = [0]\n",
    "\n",
    "# Loop melalui setiap piksel gambar\n",
    "for y in range(0, height):\n",
    "    for x in range(0, width):\n",
    "        red = int(img[y][x][0])\n",
    "        green = int(img[y][x][1])\n",
    "        blue = int(img[y][x][2])\n",
    "\n",
    "        # Tambahkan offset ke nilai warna\n",
    "        red = red + 0\n",
    "        green = green + 256\n",
    "        blue = blue + 512\n",
    "\n",
    "        # Increment histogram gabungan RGB\n",
    "        hgrgb[red] += 1\n",
    "        hgrgb[green] += 1\n",
    "        hgrgb[blue] += 1\n",
    "\n",
    "binsrgb = np.linspace(0, 768, 100)\n",
    "\n",
    "# Buat array batas bin untuk histogram warna merah\n",
    "binsr = np.linspace(0, 0, 100)\n",
    "plt.hist(hgr, binsr, color=\"red\", alpha=0.5)\n",
    "\n",
    "# Buat array batas bin untuk histogram warna hijau\n",
    "binsg = np.linspace(0, 256, 100)\n",
    "plt.hist(hgr, binsg, color=\"green\", alpha=0.5)\n",
    "\n",
    "# Buat array batas bin untuk histogram warna biru\n",
    "binsb = np.linspace(0, 768, 100)\n",
    "plt.hist(hgr, binsb, color=\"blue\", alpha=0.5)\n",
    "\n",
    "# Plot histogram gabungan RGB\n",
    "#plt.hist(hgr, binsrgb, alpha=0.5)\n",
    "plt.plot(hgrgb)\n",
    "plt.title(\"Histogram Red Green Blue\")\n",
    "plt.show()\n"
   ]
  },
  {
   "cell_type": "code",
   "execution_count": null,
   "metadata": {},
   "outputs": [],
   "source": [
    "hist_img = cv2.calcHist([img], [0], None, [768], [0, 768])\n",
    "plt.plot(hist_img)\n",
    "plt.title(\"Histogram Red Green Blue\")\n",
    "plt.show()"
   ]
  },
  {
   "cell_type": "code",
   "execution_count": null,
   "metadata": {},
   "outputs": [],
   "source": [
    "makeItZero()\n",
    "\n",
    "# Menghitung histogram untuk setiap channel warna\n",
    "for y in range(0, img.shape[0]):\n",
    "    for x in range(0, img.shape[1]):\n",
    "        red = img[y][x][0]\n",
    "        green = img[y][x][1]\n",
    "        blue = img[y][x][2]\n",
    "        hgr[red] += 1\n",
    "        hgg[green] += 1\n",
    "        hgb[blue] += 1\n",
    "\n",
    "def plot_result(red, green, blue):\n",
    "    bins = np.linspace(0, 256, 128)\n",
    "    \n",
    "    fig, (ax1, ax2, ax3) = plt.subplots(1, 3, sharey=True)\n",
    "    \n",
    "    for ax in [ax1, ax2, ax3]:\n",
    "        ax.spines[\"top\"].set_visible(False)\n",
    "        ax.spines[\"right\"].set_visible(False)\n",
    "        ax.spines[\"left\"].set_visible(False)\n",
    "        ax.spines[\"bottom\"].set_visible(False)\n",
    "        ax.grid(color='b', linestyle='--', linewidth=0.5, alpha=0.3)\n",
    "        ax.tick_params(direction='out', color='b', width='1')\n",
    "        \n",
    "    ax1.set_title('Red')\n",
    "    ax2.set_title('Green')\n",
    "    ax3.set_title('Blue')\n",
    "    \n",
    "    ax1.hist(red, bins, color=\"red\", alpha=1)\n",
    "    ax2.hist(green, bins, color=\"green\", alpha=1)\n",
    "    ax3.hist(blue, bins, color=\"blue\", alpha=1)\n",
    "\n",
    "plt.rcParams['figure.figsize'] = [20, 7]\n",
    "plot_result(hgr, hgg, hgb)"
   ]
  }
 ],
 "metadata": {
  "kernelspec": {
   "display_name": "Python 3",
   "language": "python",
   "name": "python3"
  },
  "language_info": {
   "codemirror_mode": {
    "name": "ipython",
    "version": 3
   },
   "file_extension": ".py",
   "mimetype": "text/x-python",
   "name": "python",
   "nbconvert_exporter": "python",
   "pygments_lexer": "ipython3",
   "version": "3.11.2"
  },
  "orig_nbformat": 4
 },
 "nbformat": 4,
 "nbformat_minor": 2
}
