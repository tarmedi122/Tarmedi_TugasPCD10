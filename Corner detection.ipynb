{
 "cells": [
  {
   "cell_type": "code",
   "execution_count": 1,
   "metadata": {},
   "outputs": [
    {
     "ename": "error",
     "evalue": "OpenCV(4.7.0) D:\\a\\opencv-python\\opencv-python\\opencv\\modules\\imgproc\\src\\color.cpp:182: error: (-215:Assertion failed) !_src.empty() in function 'cv::cvtColor'\n",
     "output_type": "error",
     "traceback": [
      "\u001b[1;31m---------------------------------------------------------------------------\u001b[0m",
      "\u001b[1;31merror\u001b[0m                                     Traceback (most recent call last)",
      "Cell \u001b[1;32mIn[1], line 8\u001b[0m\n\u001b[0;32m      6\u001b[0m \u001b[39m# gunakan gambar\u001b[39;00m\n\u001b[0;32m      7\u001b[0m img \u001b[39m=\u001b[39m cv2\u001b[39m.\u001b[39mimread(\u001b[39m'\u001b[39m\u001b[39mgambar1.jpeg\u001b[39m\u001b[39m'\u001b[39m)\n\u001b[1;32m----> 8\u001b[0m gray \u001b[39m=\u001b[39m cv2\u001b[39m.\u001b[39;49mcvtColor(img,cv2\u001b[39m.\u001b[39;49mCOLOR_BGR2GRAY)\n\u001b[0;32m     10\u001b[0m \u001b[39m# deteksi pojok dengan GFTT\u001b[39;00m\n\u001b[0;32m     11\u001b[0m corners \u001b[39m=\u001b[39m cv2\u001b[39m.\u001b[39mgoodFeaturesToTrack(gray,\u001b[39m1000\u001b[39m,\u001b[39m0.01\u001b[39m,\u001b[39m10\u001b[39m)\n",
      "\u001b[1;31merror\u001b[0m: OpenCV(4.7.0) D:\\a\\opencv-python\\opencv-python\\opencv\\modules\\imgproc\\src\\color.cpp:182: error: (-215:Assertion failed) !_src.empty() in function 'cv::cvtColor'\n"
     ]
    }
   ],
   "source": [
    "# Menggunakan Shi-Tomasi GFTT untuk deteksi ujung (corner detection)\n",
    "import numpy as np\n",
    "import cv2\n",
    "from matplotlib import pyplot as plt\n",
    "\n",
    "# gunakan gambar\n",
    "img = cv2.imread('spombop.jpeg')\n",
    "gray = cv2.cvtColor(img,cv2.COLOR_BGR2GRAY)\n",
    "\n",
    "# deteksi pojok dengan GFTT\n",
    "corners = cv2.goodFeaturesToTrack(gray,1000,0.01,10)\n",
    "corners = np.int0(corners)\n",
    "\n",
    "# menampilkan jumlah titik terdeteksi dengan fungsi numpy (np.ndarray.shape)\n",
    "print(\"jumlah titik terdeteksi = \", corners.shape[0])\n",
    "\n",
    "# untuk ditampilkan di Matplotlib, urutan band dibalik\n",
    "rgb = cv2.cvtColor(img,cv2.COLOR_BGR2RGB)\n",
    "\n",
    "# perbesar ukuran hasil plotting\n",
    "plt.rcParams[\"figure.figsize\"] = (20,20)\n",
    "\n",
    "# untuk tiap pojok yang terdeteksi, munculkan pada gambar\n",
    "for i in corners:\n",
    "    x,y = i.ravel()\n",
    "    cv2.circle(rgb,(x,y),3,255,-1)\n",
    "plt.imshow(rgb),plt.show()"
   ]
  }
 ],
 "metadata": {
  "kernelspec": {
   "display_name": "Python 3",
   "language": "python",
   "name": "python3"
  },
  "language_info": {
   "codemirror_mode": {
    "name": "ipython",
    "version": 3
   },
   "file_extension": ".py",
   "mimetype": "text/x-python",
   "name": "python",
   "nbconvert_exporter": "python",
   "pygments_lexer": "ipython3",
   "version": "3.11.2"
  },
  "orig_nbformat": 4
 },
 "nbformat": 4,
 "nbformat_minor": 2
}
