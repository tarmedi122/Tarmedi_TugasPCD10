{
 "cells": [
  {
   "cell_type": "code",
   "execution_count": 2,
   "metadata": {},
   "outputs": [
    {
     "ename": "error",
     "evalue": "OpenCV(4.7.0) D:\\a\\opencv-python\\opencv-python\\opencv\\modules\\imgproc\\src\\color.cpp:182: error: (-215:Assertion failed) !_src.empty() in function 'cv::cvtColor'\n",
     "output_type": "error",
     "traceback": [
      "\u001b[1;31m---------------------------------------------------------------------------\u001b[0m",
      "\u001b[1;31merror\u001b[0m                                     Traceback (most recent call last)",
      "Cell \u001b[1;32mIn[2], line 9\u001b[0m\n\u001b[0;32m      7\u001b[0m img1 \u001b[39m=\u001b[39m cv2\u001b[39m.\u001b[39mimread(\u001b[39m'\u001b[39m\u001b[39mmooody.jpg\u001b[39m\u001b[39m'\u001b[39m) \u001b[39m# gambar yang dituju\u001b[39;00m\n\u001b[0;32m      8\u001b[0m img2 \u001b[39m=\u001b[39m cv2\u001b[39m.\u001b[39mimread(\u001b[39m'\u001b[39m\u001b[39mmoody.jpg\u001b[39m\u001b[39m'\u001b[39m) \u001b[39m# gambar yang dicari\u001b[39;00m\n\u001b[1;32m----> 9\u001b[0m gray1\u001b[39m=\u001b[39m cv2\u001b[39m.\u001b[39;49mcvtColor(img1,cv2\u001b[39m.\u001b[39;49mCOLOR_BGR2GRAY)\n\u001b[0;32m     10\u001b[0m gray2\u001b[39m=\u001b[39m cv2\u001b[39m.\u001b[39mcvtColor(img2,cv2\u001b[39m.\u001b[39mCOLOR_BGR2GRAY)\n\u001b[0;32m     11\u001b[0m \u001b[39m# Menggunakan Detector SIFT\u001b[39;00m\n",
      "\u001b[1;31merror\u001b[0m: OpenCV(4.7.0) D:\\a\\opencv-python\\opencv-python\\opencv\\modules\\imgproc\\src\\color.cpp:182: error: (-215:Assertion failed) !_src.empty() in function 'cv::cvtColor'\n"
     ]
    }
   ],
   "source": [
    "# Contoh Script untuk feature detection and Matching\n",
    "# Modifikasi script ini untuk mencoba metode yang berbeda\n",
    "import numpy as np\n",
    "import cv2\n",
    "from matplotlib import pyplot as plt\n",
    "# Gunakan gambar yang ada pada laptop masing-masing\n",
    "img1 = cv2.imread('mooody.jpg') # gambar yang dituju\n",
    "img2 = cv2.imread('moody.jpg') # gambar yang dicari\n",
    "gray1= cv2.cvtColor(img1,cv2.COLOR_BGR2GRAY)\n",
    "gray2= cv2.cvtColor(img2,cv2.COLOR_BGR2GRAY)\n",
    "# Menggunakan Detector SIFT\n",
    "sift = cv2.xfeatures2d.SIFT_create()\n",
    "# Mencari Keypoint dengan SIFT\n",
    "kp1, des1 = sift.detectAndCompute(gray1,None)\n",
    "kp2, des2 = sift.detectAndCompute(gray2,None)\n",
    "# Melakukan Matching dari hasil deteksi keypoints menggunakan\n",
    "# BruteForce Matcher\n",
    "bf = cv2.BFMatcher()\n",
    "matches = bf.knnMatch(des1,des2, k=2)\n",
    "# Uji rasio matching sederhana\n",
    "good = []\n",
    "for m,n in matches:\n",
    "    if m.distance < 0.5*n.distance:\n",
    "        good.append([m])\n",
    "img3 = None\n",
    "# menggambar hasil match pada gambar baru (IMG3)\n",
    "\n",
    "img3 = cv2.drawMatchesKnn(img1,kp1,img2,kp2,good,img3,flags=2)\n",
    "plt.imshow(cv2.cvtColor(img3, cv2.COLOR_BGR2RGB)),plt.show()"
   ]
  }
 ],
 "metadata": {
  "kernelspec": {
   "display_name": "Python 3",
   "language": "python",
   "name": "python3"
  },
  "language_info": {
   "codemirror_mode": {
    "name": "ipython",
    "version": 3
   },
   "file_extension": ".py",
   "mimetype": "text/x-python",
   "name": "python",
   "nbconvert_exporter": "python",
   "pygments_lexer": "ipython3",
   "version": "3.11.2"
  },
  "orig_nbformat": 4
 },
 "nbformat": 4,
 "nbformat_minor": 2
}
